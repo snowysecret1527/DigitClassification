{
 "cells": [
  {
   "cell_type": "code",
   "execution_count": null,
   "id": "f7bbeefc",
   "metadata": {},
   "outputs": [],
   "source": 
    
  },
  {
   "cell_type": "code",
   "execution_count": null,
   "id": "81ad60e2",
   "metadata": {},
   "outputs": [],
   "source":
  },
  {
   "cell_type": "code",
   "execution_count": 18,
   "id": "cdf9d5e5",
   "metadata": {},
   "outputs": [],
   "source": [
    "import tensorflow as tf\n",
    "from tensorflow import keras\n",
    "import matplotlib.pyplot as plt\n",
    "import numpy as np"
   ]
  },
  {
   "cell_type": "code",
   "execution_count": 20,
   "id": "c9a2ff1f",
   "metadata": {},
   "outputs": [],
   "source": [
    "(X_train,y_train),(X_test,y_test)=keras.datasets.mnist.load_data()"
   ]
  },
  {
   "cell_type": "code",
   "execution_count": 22,
   "id": "af1a712e",
   "metadata": {},
   "outputs": [
    {
     "data": {
      "text/plain": [
       "60000"
      ]
     },
     "execution_count": 22,
     "metadata": {},
     "output_type": "execute_result"
    }
   ],
   "source": [
    "len(X_train)\n"
   ]
  },
  {
   "cell_type": "code",
   "execution_count": 23,
   "id": "279b59bc",
   "metadata": {},
   "outputs": [
    {
     "data": {
      "text/plain": [
       "10000"
      ]
     },
     "execution_count": 23,
     "metadata": {},
     "output_type": "execute_result"
    }
   ],
   "source": [
    "len(X_test)"
   ]
  },
  {
   "cell_type": "code",
   "execution_count": 24,
   "id": "4099982b",
   "metadata": {},
   "outputs": [
    {
     "data": {
      "text/plain": [
       "(28, 28)"
      ]
     },
     "execution_count": 24,
     "metadata": {},
     "output_type": "execute_result"
    }
   ],
   "source": [
    "X_train[0].shape"
   ]
  },
  {
   "cell_type": "code",
   "execution_count": 25,
   "id": "a1a9291d",
   "metadata": {},
   "outputs": [
    {
     "data": {
      "text/plain": [
       "array([[  0,   0,   0,   0,   0,   0,   0,   0,   0,   0,   0,   0,   0,\n",
       "          0,   0,   0,   0,   0,   0,   0,   0,   0,   0,   0,   0,   0,\n",
       "          0,   0],\n",
       "       [  0,   0,   0,   0,   0,   0,   0,   0,   0,   0,   0,   0,   0,\n",
       "          0,   0,   0,   0,   0,   0,   0,   0,   0,   0,   0,   0,   0,\n",
       "          0,   0],\n",
       "       [  0,   0,   0,   0,   0,   0,   0,   0,   0,   0,   0,   0,   0,\n",
       "          0,   0,   0,   0,   0,   0,   0,   0,   0,   0,   0,   0,   0,\n",
       "          0,   0],\n",
       "       [  0,   0,   0,   0,   0,   0,   0,   0,   0,   0,   0,   0,   0,\n",
       "          0,   0,   0,   0,   0,   0,   0,   0,   0,   0,   0,   0,   0,\n",
       "          0,   0],\n",
       "       [  0,   0,   0,   0,   0,   0,   0,   0,   0,   0,   0,   0,   0,\n",
       "          0,   0,   0,   0,   0,   0,   0,   0,   0,   0,   0,   0,   0,\n",
       "          0,   0],\n",
       "       [  0,   0,   0,   0,   0,   0,   0,   0,   0,   0,   0,   0,   3,\n",
       "         18,  18,  18, 126, 136, 175,  26, 166, 255, 247, 127,   0,   0,\n",
       "          0,   0],\n",
       "       [  0,   0,   0,   0,   0,   0,   0,   0,  30,  36,  94, 154, 170,\n",
       "        253, 253, 253, 253, 253, 225, 172, 253, 242, 195,  64,   0,   0,\n",
       "          0,   0],\n",
       "       [  0,   0,   0,   0,   0,   0,   0,  49, 238, 253, 253, 253, 253,\n",
       "        253, 253, 253, 253, 251,  93,  82,  82,  56,  39,   0,   0,   0,\n",
       "          0,   0],\n",
       "       [  0,   0,   0,   0,   0,   0,   0,  18, 219, 253, 253, 253, 253,\n",
       "        253, 198, 182, 247, 241,   0,   0,   0,   0,   0,   0,   0,   0,\n",
       "          0,   0],\n",
       "       [  0,   0,   0,   0,   0,   0,   0,   0,  80, 156, 107, 253, 253,\n",
       "        205,  11,   0,  43, 154,   0,   0,   0,   0,   0,   0,   0,   0,\n",
       "          0,   0],\n",
       "       [  0,   0,   0,   0,   0,   0,   0,   0,   0,  14,   1, 154, 253,\n",
       "         90,   0,   0,   0,   0,   0,   0,   0,   0,   0,   0,   0,   0,\n",
       "          0,   0],\n",
       "       [  0,   0,   0,   0,   0,   0,   0,   0,   0,   0,   0, 139, 253,\n",
       "        190,   2,   0,   0,   0,   0,   0,   0,   0,   0,   0,   0,   0,\n",
       "          0,   0],\n",
       "       [  0,   0,   0,   0,   0,   0,   0,   0,   0,   0,   0,  11, 190,\n",
       "        253,  70,   0,   0,   0,   0,   0,   0,   0,   0,   0,   0,   0,\n",
       "          0,   0],\n",
       "       [  0,   0,   0,   0,   0,   0,   0,   0,   0,   0,   0,   0,  35,\n",
       "        241, 225, 160, 108,   1,   0,   0,   0,   0,   0,   0,   0,   0,\n",
       "          0,   0],\n",
       "       [  0,   0,   0,   0,   0,   0,   0,   0,   0,   0,   0,   0,   0,\n",
       "         81, 240, 253, 253, 119,  25,   0,   0,   0,   0,   0,   0,   0,\n",
       "          0,   0],\n",
       "       [  0,   0,   0,   0,   0,   0,   0,   0,   0,   0,   0,   0,   0,\n",
       "          0,  45, 186, 253, 253, 150,  27,   0,   0,   0,   0,   0,   0,\n",
       "          0,   0],\n",
       "       [  0,   0,   0,   0,   0,   0,   0,   0,   0,   0,   0,   0,   0,\n",
       "          0,   0,  16,  93, 252, 253, 187,   0,   0,   0,   0,   0,   0,\n",
       "          0,   0],\n",
       "       [  0,   0,   0,   0,   0,   0,   0,   0,   0,   0,   0,   0,   0,\n",
       "          0,   0,   0,   0, 249, 253, 249,  64,   0,   0,   0,   0,   0,\n",
       "          0,   0],\n",
       "       [  0,   0,   0,   0,   0,   0,   0,   0,   0,   0,   0,   0,   0,\n",
       "          0,  46, 130, 183, 253, 253, 207,   2,   0,   0,   0,   0,   0,\n",
       "          0,   0],\n",
       "       [  0,   0,   0,   0,   0,   0,   0,   0,   0,   0,   0,   0,  39,\n",
       "        148, 229, 253, 253, 253, 250, 182,   0,   0,   0,   0,   0,   0,\n",
       "          0,   0],\n",
       "       [  0,   0,   0,   0,   0,   0,   0,   0,   0,   0,  24, 114, 221,\n",
       "        253, 253, 253, 253, 201,  78,   0,   0,   0,   0,   0,   0,   0,\n",
       "          0,   0],\n",
       "       [  0,   0,   0,   0,   0,   0,   0,   0,  23,  66, 213, 253, 253,\n",
       "        253, 253, 198,  81,   2,   0,   0,   0,   0,   0,   0,   0,   0,\n",
       "          0,   0],\n",
       "       [  0,   0,   0,   0,   0,   0,  18, 171, 219, 253, 253, 253, 253,\n",
       "        195,  80,   9,   0,   0,   0,   0,   0,   0,   0,   0,   0,   0,\n",
       "          0,   0],\n",
       "       [  0,   0,   0,   0,  55, 172, 226, 253, 253, 253, 253, 244, 133,\n",
       "         11,   0,   0,   0,   0,   0,   0,   0,   0,   0,   0,   0,   0,\n",
       "          0,   0],\n",
       "       [  0,   0,   0,   0, 136, 253, 253, 253, 212, 135, 132,  16,   0,\n",
       "          0,   0,   0,   0,   0,   0,   0,   0,   0,   0,   0,   0,   0,\n",
       "          0,   0],\n",
       "       [  0,   0,   0,   0,   0,   0,   0,   0,   0,   0,   0,   0,   0,\n",
       "          0,   0,   0,   0,   0,   0,   0,   0,   0,   0,   0,   0,   0,\n",
       "          0,   0],\n",
       "       [  0,   0,   0,   0,   0,   0,   0,   0,   0,   0,   0,   0,   0,\n",
       "          0,   0,   0,   0,   0,   0,   0,   0,   0,   0,   0,   0,   0,\n",
       "          0,   0],\n",
       "       [  0,   0,   0,   0,   0,   0,   0,   0,   0,   0,   0,   0,   0,\n",
       "          0,   0,   0,   0,   0,   0,   0,   0,   0,   0,   0,   0,   0,\n",
       "          0,   0]], dtype=uint8)"
      ]
     },
     "execution_count": 25,
     "metadata": {},
     "output_type": "execute_result"
    }
   ],
   "source": [
    "X_train[0]"
   ]
  },
  {
   "cell_type": "code",
   "execution_count": 26,
   "id": "f47d645f",
   "metadata": {},
   "outputs": [
    {
     "data": {
      "text/plain": [
       "<matplotlib.image.AxesImage at 0x22571adb6a0>"
      ]
     },
     "execution_count": 26,
     "metadata": {},
     "output_type": "execute_result"
    },
    {
     "data": {
      "image/png": "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\n",
      "text/plain": [
       "<Figure size 345.6x345.6 with 1 Axes>"
      ]
     },
     "metadata": {
      "needs_background": "light"
     },
     "output_type": "display_data"
    }
   ],
   "source": [
    "plt.matshow(X_train[0])"
   ]
  },
  {
   "cell_type": "code",
   "execution_count": 27,
   "id": "f34bfe90",
   "metadata": {},
   "outputs": [
    {
     "data": {
      "text/plain": [
       "<matplotlib.image.AxesImage at 0x22573bca940>"
      ]
     },
     "execution_count": 27,
     "metadata": {},
     "output_type": "execute_result"
    },
    {
     "data": {
      "image/png": "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\n",
      "text/plain": [
       "<Figure size 288x288 with 1 Axes>"
      ]
     },
     "metadata": {
      "needs_background": "light"
     },
     "output_type": "display_data"
    }
   ],
   "source": [
    "plt.matshow(X_train[1])"
   ]
  },
  {
   "cell_type": "code",
   "execution_count": 28,
   "id": "fbabad3b",
   "metadata": {},
   "outputs": [
    {
     "data": {
      "text/plain": [
       "4"
      ]
     },
     "execution_count": 28,
     "metadata": {},
     "output_type": "execute_result"
    }
   ],
   "source": [
    "y_train[2]"
   ]
  },
  {
   "cell_type": "code",
   "execution_count": 42,
   "id": "c076c717",
   "metadata": {},
   "outputs": [],
   "source": [
    "X_train=X_train/255\n",
    "X_test=X_test/255"
   ]
  },
  {
   "cell_type": "code",
   "execution_count": 43,
   "id": "69045ead",
   "metadata": {},
   "outputs": [
    {
     "data": {
      "text/plain": [
       "(60000, 784)"
      ]
     },
     "execution_count": 43,
     "metadata": {},
     "output_type": "execute_result"
    }
   ],
   "source": [
    "X_train_flattened=X_train.reshape(len(X_train),28*28)\n",
    "X_train_flattened.shape"
   ]
  },
  {
   "cell_type": "code",
   "execution_count": 44,
   "id": "be6f33db",
   "metadata": {},
   "outputs": [
    {
     "data": {
      "text/plain": [
       "(10000, 784)"
      ]
     },
     "execution_count": 44,
     "metadata": {},
     "output_type": "execute_result"
    }
   ],
   "source": [
    "X_test_flattened=X_test.reshape(len(X_test),28*28)\n",
    "X_test_flattened.shape"
   ]
  },
  {
   "cell_type": "code",
   "execution_count": 45,
   "id": "985e8e7f",
   "metadata": {},
   "outputs": [
    {
     "name": "stdout",
     "output_type": "stream",
     "text": [
      "Epoch 1/5\n",
      "1875/1875 [==============================] - 8s 4ms/step - loss: 0.4639 - accuracy: 0.8808\n",
      "Epoch 2/5\n",
      "1875/1875 [==============================] - 7s 4ms/step - loss: 0.3040 - accuracy: 0.9153\n",
      "Epoch 3/5\n",
      "1875/1875 [==============================] - 7s 4ms/step - loss: 0.2832 - accuracy: 0.9208\n",
      "Epoch 4/5\n",
      "1875/1875 [==============================] - 7s 4ms/step - loss: 0.2734 - accuracy: 0.9239\n",
      "Epoch 5/5\n",
      "1875/1875 [==============================] - 7s 4ms/step - loss: 0.2664 - accuracy: 0.9256\n"
     ]
    },
    {
     "data": {
      "text/plain": [
       "<keras.src.callbacks.History at 0x22578cbdfa0>"
      ]
     },
     "execution_count": 45,
     "metadata": {},
     "output_type": "execute_result"
    }
   ],
   "source": [
    "\n",
    "model=keras.Sequential([keras.layers.Dense(10,input_shape=(784,),activation='sigmoid')])\n",
    "model.compile(optimizer='adam',loss=keras.losses.sparse_categorical_crossentropy,metrics=['accuracy'])\n",
    "model.fit(X_train_flattened,y_train,epochs=5)"
   ]
  },
  {
   "cell_type": "code",
   "execution_count": 46,
   "id": "028546dc",
   "metadata": {},
   "outputs": [
    {
     "name": "stdout",
     "output_type": "stream",
     "text": [
      "313/313 [==============================] - 1s 3ms/step - loss: 0.2662 - accuracy: 0.9259\n"
     ]
    },
    {
     "data": {
      "text/plain": [
       "[0.26621249318122864, 0.9258999824523926]"
      ]
     },
     "execution_count": 46,
     "metadata": {},
     "output_type": "execute_result"
    }
   ],
   "source": [
    "model.evaluate(X_test_flattened,y_test)"
   ]
  },
  {
   "cell_type": "code",
   "execution_count": 48,
   "id": "b03bd882",
   "metadata": {},
   "outputs": [
    {
     "data": {
      "text/plain": [
       "<matplotlib.image.AxesImage at 0x225198a0100>"
      ]
     },
     "execution_count": 48,
     "metadata": {},
     "output_type": "execute_result"
    },
    {
     "data": {
      "image/png": "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\n",
      "text/plain": [
       "<Figure size 288x288 with 1 Axes>"
      ]
     },
     "metadata": {
      "needs_background": "light"
     },
     "output_type": "display_data"
    }
   ],
   "source": [
    "plt.matshow(X_test[0])"
   ]
  },
  {
   "cell_type": "code",
   "execution_count": 49,
   "id": "73ab7f53",
   "metadata": {},
   "outputs": [
    {
     "name": "stdout",
     "output_type": "stream",
     "text": [
      "313/313 [==============================] - 1s 3ms/step\n"
     ]
    },
    {
     "data": {
      "text/plain": [
       "7"
      ]
     },
     "execution_count": 49,
     "metadata": {},
     "output_type": "execute_result"
    }
   ],
   "source": [
    "y_pred=model.predict(X_test_flattened)\n",
    "np.argmax(y_pred[0])"
   ]
  },
  {
   "cell_type": "code",
   "execution_count": 52,
   "id": "c7b4d045",
   "metadata": {},
   "outputs": [
    {
     "data": {
      "text/plain": [
       "<matplotlib.image.AxesImage at 0x22517aaebe0>"
      ]
     },
     "execution_count": 52,
     "metadata": {},
     "output_type": "execute_result"
    },
    {
     "data": {
      "image/png": "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\n",
      "text/plain": [
       "<Figure size 288x288 with 1 Axes>"
      ]
     },
     "metadata": {
      "needs_background": "light"
     },
     "output_type": "display_data"
    }
   ],
   "source": [
    "plt.matshow(X_test[1])"
   ]
  },
  {
   "cell_type": "code",
   "execution_count": 53,
   "id": "a121eed0",
   "metadata": {},
   "outputs": [
    {
     "name": "stdout",
     "output_type": "stream",
     "text": [
      "313/313 [==============================] - 2s 6ms/step\n"
     ]
    },
    {
     "data": {
      "text/plain": [
       "2"
      ]
     },
     "execution_count": 53,
     "metadata": {},
     "output_type": "execute_result"
    }
   ],
   "source": [
    "y_pred=model.predict(X_test_flattened)\n",
    "np.argmax(y_pred[1])"
   ]
  },
  {
   "cell_type": "code",
   "execution_count": 54,
   "id": "6c8831b6",
   "metadata": {},
   "outputs": [
    {
     "data": {
      "text/plain": [
       "[7, 2, 1, 0, 4]"
      ]
     },
     "execution_count": 54,
     "metadata": {},
     "output_type": "execute_result"
    }
   ],
   "source": [
    "y_pred_labels=[np.argmax(i) for i in y_pred]\n",
    "y_pred_labels[:5]"
   ]
  },
  {
   "cell_type": "code",
   "execution_count": 56,
   "id": "85ac5a6f",
   "metadata": {},
   "outputs": [
    {
     "data": {
      "text/plain": [
       "<tf.Tensor: shape=(10, 10), dtype=int32, numpy=\n",
       "array([[ 958,    0,    2,    2,    0,    7,    5,    3,    2,    1],\n",
       "       [   0, 1118,    3,    2,    0,    1,    4,    2,    5,    0],\n",
       "       [   5,    9,  937,   11,    7,    4,   11,   11,   35,    2],\n",
       "       [   3,    0,   29,  911,    0,   24,    2,   13,   21,    7],\n",
       "       [   1,    1,    8,    1,  907,    0,   11,    7,   10,   36],\n",
       "       [   9,    2,    7,   32,    8,  770,   13,    9,   35,    7],\n",
       "       [   9,    3,    8,    1,    7,   12,  912,    2,    4,    0],\n",
       "       [   1,    7,   25,    3,    3,    0,    0,  961,    1,   27],\n",
       "       [   7,   11,    8,   18,    9,   23,    8,   13,  870,    7],\n",
       "       [  11,    7,    1,    8,   24,    6,    0,   31,    6,  915]])>"
      ]
     },
     "execution_count": 56,
     "metadata": {},
     "output_type": "execute_result"
    }
   ],
   "source": [
    "cm=tf.math.confusion_matrix(labels=y_test,predictions=y_pred_labels)\n",
    "cm"
   ]
  },
  {
   "cell_type": "code",
   "execution_count": 57,
   "id": "48ddf272",
   "metadata": {},
   "outputs": [
    {
     "data": {
      "text/plain": [
       "Text(69.0, 0.5, 'Truth')"
      ]
     },
     "execution_count": 57,
     "metadata": {},
     "output_type": "execute_result"
    },
    {
     "data": {
      "image/png": "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\n",
      "text/plain": [
       "<Figure size 720x504 with 2 Axes>"
      ]
     },
     "metadata": {
      "needs_background": "light"
     },
     "output_type": "display_data"
    }
   ],
   "source": [
    "import seaborn as sns\n",
    "plt.figure(figsize=(10,7))\n",
    "sns.heatmap(cm,annot=True)\n",
    "plt.xlabel('Predicted')\n",
    "plt.ylabel('Truth')"
   ]
  },
  {
   "cell_type": "code",
   "execution_count": 59,
   "id": "2377576f",
   "metadata": {},
   "outputs": [
    {
     "name": "stdout",
     "output_type": "stream",
     "text": [
      "Epoch 1/5\n",
      "1875/1875 [==============================] - 22s 10ms/step - loss: 0.2716 - accuracy: 0.9220\n",
      "Epoch 2/5\n",
      "1875/1875 [==============================] - 18s 10ms/step - loss: 0.1229 - accuracy: 0.9642\n",
      "Epoch 3/5\n",
      "1875/1875 [==============================] - 18s 10ms/step - loss: 0.0856 - accuracy: 0.9744\n",
      "Epoch 4/5\n",
      "1875/1875 [==============================] - 18s 10ms/step - loss: 0.0649 - accuracy: 0.9799\n",
      "Epoch 5/5\n",
      "1875/1875 [==============================] - 18s 10ms/step - loss: 0.0504 - accuracy: 0.9844\n"
     ]
    },
    {
     "data": {
      "text/plain": [
       "<keras.src.callbacks.History at 0x22518871cd0>"
      ]
     },
     "execution_count": 59,
     "metadata": {},
     "output_type": "execute_result"
    }
   ],
   "source": [
    "model=keras.Sequential([keras.layers.Dense(100,input_shape=(784,),activation='relu'),\n",
    "                        keras.layers.Dense(10,activation='sigmoid')])\n",
    "model.compile(optimizer='adam',loss=keras.losses.sparse_categorical_crossentropy,metrics=['accuracy'])\n",
    "model.fit(X_train_flattened,y_train,epochs=5)"
   ]
  },
  {
   "cell_type": "code",
   "execution_count": 60,
   "id": "c8f1538c",
   "metadata": {},
   "outputs": [
    {
     "name": "stdout",
     "output_type": "stream",
     "text": [
      "313/313 [==============================] - 3s 7ms/step - loss: 0.0778 - accuracy: 0.9766\n"
     ]
    },
    {
     "data": {
      "text/plain": [
       "[0.07779029756784439, 0.9765999913215637]"
      ]
     },
     "execution_count": 60,
     "metadata": {},
     "output_type": "execute_result"
    }
   ],
   "source": [
    "model.evaluate(X_test_flattened,y_test)"
   ]
  },
  {
   "cell_type": "code",
   "execution_count": 61,
   "id": "179d0178",
   "metadata": {},
   "outputs": [
    {
     "name": "stdout",
     "output_type": "stream",
     "text": [
      "313/313 [==============================] - 2s 7ms/step\n"
     ]
    },
    {
     "data": {
      "text/plain": [
       "Text(69.0, 0.5, 'Truth')"
      ]
     },
     "execution_count": 61,
     "metadata": {},
     "output_type": "execute_result"
    },
    {
     "data": {
      "image/png": "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\n",
      "text/plain": [
       "<Figure size 720x504 with 2 Axes>"
      ]
     },
     "metadata": {
      "needs_background": "light"
     },
     "output_type": "display_data"
    }
   ],
   "source": [
    "y_pred=model.predict(X_test_flattened)\n",
    "y_pred_labels=[np.argmax(i) for i in y_pred]\n",
    "cm=tf.math.confusion_matrix(labels=y_test,predictions=y_pred_labels)\n",
    "\n",
    "plt.figure(figsize=(10,7))\n",
    "sns.heatmap(cm,annot=True)\n",
    "plt.xlabel('Predicted')\n",
    "plt.ylabel('Truth')"
   ]
  },
  {
   "cell_type": "code",
   "execution_count": 62,
   "id": "e27b819b",
   "metadata": {},
   "outputs": [
    {
     "name": "stdout",
     "output_type": "stream",
     "text": [
      "Epoch 1/5\n",
      "1875/1875 [==============================] - 22s 10ms/step - loss: 0.2725 - accuracy: 0.9225\n",
      "Epoch 2/5\n",
      "1875/1875 [==============================] - 19s 10ms/step - loss: 0.1228 - accuracy: 0.9638\n",
      "Epoch 3/5\n",
      "1875/1875 [==============================] - 19s 10ms/step - loss: 0.0864 - accuracy: 0.9746\n",
      "Epoch 4/5\n",
      "1875/1875 [==============================] - 19s 10ms/step - loss: 0.0663 - accuracy: 0.9801\n",
      "Epoch 5/5\n",
      "1875/1875 [==============================] - 19s 10ms/step - loss: 0.0517 - accuracy: 0.9839\n"
     ]
    },
    {
     "data": {
      "text/plain": [
       "<keras.src.callbacks.History at 0x22518e6c100>"
      ]
     },
     "execution_count": 62,
     "metadata": {},
     "output_type": "execute_result"
    }
   ],
   "source": [
    "model=keras.Sequential([keras.layers.Flatten(input_shape=(28,28)),\n",
    "    keras.layers.Dense(100,activation='relu'),\n",
    "                        keras.layers.Dense(10,activation='sigmoid')])\n",
    "model.compile(optimizer='adam',loss=keras.losses.sparse_categorical_crossentropy,metrics=['accuracy'])\n",
    "model.fit(X_train,y_train,epochs=5)"
   ]
  },
  {
   "cell_type": "code",
   "execution_count": null,
   "id": "ff358390",
   "metadata": {},
   "outputs": [],
   "source": []
  },
  {
   "cell_type": "code",
   "execution_count": null,
   "id": "7de6c571",
   "metadata": {},
   "outputs": [],
   "source": []
  },
  {
   "cell_type": "code",
   "execution_count": null,
   "id": "7435ef97",
   "metadata": {},
   "outputs": [],
   "source": []
  }
 ],
 "metadata": {
  "kernelspec": {
   "display_name": "Python 3 (ipykernel)",
   "language": "python",
   "name": "python3"
  },
  "language_info": {
   "codemirror_mode": {
    "name": "ipython",
    "version": 3
   },
   "file_extension": ".py",
   "mimetype": "text/x-python",
   "name": "python",
   "nbconvert_exporter": "python",
   "pygments_lexer": "ipython3",
   "version": "3.9.7"
  }
 },
 "nbformat": 4,
 "nbformat_minor": 5
}
